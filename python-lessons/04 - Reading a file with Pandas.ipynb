{
 "cells": [
  {
   "cell_type": "markdown",
   "metadata": {},
   "source": [
    "Reading a file with Pandas\n",
    "==\n",
    "---"
   ]
  },
  {
   "cell_type": "markdown",
   "metadata": {},
   "source": [
    "Pandas is a library widely used for statistics and analysis\n",
    "* Has functions which allow you to read a file directly into your script\n",
    "* Borrows many feature from R's data frames"
   ]
  },
  {
   "cell_type": "markdown",
   "metadata": {},
   "source": [
    "*   Read a Comma Separate Values (CSV) data file with `pandas.read_csv`.\n",
    "    * Uses the same notation as you used for bash (\"./\" accesses the current folder, \"../\" searches up to the parent folder)\n",
    "    * Argument is the name of the file to be read.\n",
    "    * Assign result to a variable to store the data that was read."
   ]
  },
  {
   "cell_type": "markdown",
   "metadata": {},
   "source": [
    "## Accessing Files\n",
    "\n",
    "We're using the gapminder data that we created yesterday. Remember that these are stored in the shell_lessons directory in a `data` sub-directory, which is why the path to the file is `../shell_lessons/data/gapminder_data/gapminder_final.txt`. If you forget to include `../shell_lessons/`, or if you include it but your copy of the file is somewhere else, you will get a [runtime error]({{ site.github.url }}/05-error-messages/) that ends with a line like this:\n",
    "    ~~~\n",
    "    OSError: File b'gapminder_final.txt' does not exist\n",
    "    ~~~\n",
    "    \n",
    "** Don't forget to use the tab key for auto-completion **\n",
    "    * Auto-complete works in Jupyter notebooks!"
   ]
  },
  {
   "cell_type": "code",
   "execution_count": 1,
   "metadata": {},
   "outputs": [],
   "source": [
    "# First, import the pandas library\n",
    "import pandas"
   ]
  },
  {
   "cell_type": "code",
   "execution_count": 2,
   "metadata": {},
   "outputs": [],
   "source": [
    "# Then read the csv\n",
    "df = pandas.read_csv(\"gapminder_csv.txt\")"
   ]
  },
  {
   "cell_type": "markdown",
   "metadata": {},
   "source": [
    " print the data frame"
   ]
  },
  {
   "cell_type": "code",
   "execution_count": 3,
   "metadata": {},
   "outputs": [
    {
     "name": "stdout",
     "output_type": "stream",
     "text": [
      "          country  year         pop continent  lifeExp    gdpPercap\n",
      "0     Afghanistan  1997  22227415.0      Asia   41.763   635.341351\n",
      "1     Afghanistan  2002  25268405.0      Asia   42.129   726.734055\n",
      "2     Afghanistan  2007  31889923.0      Asia   43.828   974.580338\n",
      "3     Afghanistan  1952   8425333.0      Asia   28.801   779.445314\n",
      "4     Afghanistan  1957   9240934.0      Asia   30.332   820.853030\n",
      "5     Afghanistan  1962  10267083.0      Asia   31.997   853.100710\n",
      "6     Afghanistan  1967  11537966.0      Asia   34.020   836.197138\n",
      "7     Afghanistan  1972  13079460.0      Asia   36.088   739.981106\n",
      "8     Afghanistan  1977  14880372.0      Asia   38.438   786.113360\n",
      "9     Afghanistan  1982  12881816.0      Asia   39.854   978.011439\n",
      "10    Afghanistan  1987  13867957.0      Asia   40.822   852.395945\n",
      "11    Afghanistan  1992  16317921.0      Asia   41.674   649.341395\n",
      "12        Albania  1952   1282697.0    Europe   55.230  1601.056136\n",
      "13        Albania  1957   1476505.0    Europe   59.280  1942.284244\n",
      "14        Albania  1962   1728137.0    Europe   64.820  2312.888958\n",
      "15        Albania  1967   1984060.0    Europe   66.220  2760.196931\n",
      "16        Albania  1972   2263554.0    Europe   67.690  3313.422188\n",
      "17        Albania  1977   2509048.0    Europe   68.930  3533.003910\n",
      "18        Albania  1982   2780097.0    Europe   70.420  3630.880722\n",
      "19        Albania  1987   3075321.0    Europe   72.000  3738.932735\n",
      "20        Albania  1992   3326498.0    Europe   71.581  2497.437901\n",
      "21        Albania  1997   3428038.0    Europe   72.950  3193.054604\n",
      "22        Albania  2002   3508512.0    Europe   75.651  4604.211737\n",
      "23        Albania  2007   3600523.0    Europe   76.423  5937.029526\n",
      "24        Algeria  1962  11000948.0    Africa   48.303  2550.816880\n",
      "25        Algeria  1967  12760499.0    Africa   51.407  3246.991771\n",
      "26        Algeria  1972  14760787.0    Africa   54.518  4182.663766\n",
      "27        Algeria  1977  17152804.0    Africa   58.014  4910.416756\n",
      "28        Algeria  1982  20033753.0    Africa   61.368  5745.160213\n",
      "29        Algeria  1952   9279525.0    Africa   43.077  2449.008185\n",
      "...           ...   ...         ...       ...      ...          ...\n",
      "1674   Yemen Rep.  1982   9657618.0      Asia   49.113  1977.557010\n",
      "1675   Yemen Rep.  1987  11219340.0      Asia   52.922  1971.741538\n",
      "1676   Yemen Rep.  1992  13367997.0      Asia   55.599  1879.496673\n",
      "1677   Yemen Rep.  1997  15826497.0      Asia   58.020  2117.484526\n",
      "1678   Yemen Rep.  2002  18701257.0      Asia   60.308  2234.820827\n",
      "1679   Yemen Rep.  2007  22211743.0      Asia   62.698  2280.769906\n",
      "1680       Zambia  1952   2672000.0    Africa   42.038  1147.388831\n",
      "1681       Zambia  1957   3016000.0    Africa   44.077  1311.956766\n",
      "1682       Zambia  1962   3421000.0    Africa   46.023  1452.725766\n",
      "1683       Zambia  1967   3900000.0    Africa   47.768  1777.077318\n",
      "1684       Zambia  1972   4506497.0    Africa   50.107  1773.498265\n",
      "1685       Zambia  1977   5216550.0    Africa   51.386  1588.688299\n",
      "1686       Zambia  1982   6100407.0    Africa   51.821  1408.678565\n",
      "1687       Zambia  1987   7272406.0    Africa   50.821  1213.315116\n",
      "1688       Zambia  1992   8381163.0    Africa   46.100  1210.884633\n",
      "1689       Zambia  1997   9417789.0    Africa   40.238  1071.353818\n",
      "1690       Zambia  2002  10595811.0    Africa   39.193  1071.613938\n",
      "1691       Zambia  2007  11746035.0    Africa   42.384  1271.211593\n",
      "1692     Zimbabwe  1952   3080907.0    Africa   48.451   406.884115\n",
      "1693     Zimbabwe  1957   3646340.0    Africa   50.469   518.764268\n",
      "1694     Zimbabwe  1962   4277736.0    Africa   52.358   527.272182\n",
      "1695     Zimbabwe  1967   4995432.0    Africa   53.995   569.795071\n",
      "1696     Zimbabwe  1972   5861135.0    Africa   55.635   799.362176\n",
      "1697     Zimbabwe  1977   6642107.0    Africa   57.674   685.587682\n",
      "1698     Zimbabwe  1982   7636524.0    Africa   60.363   788.855041\n",
      "1699     Zimbabwe  1987   9216418.0    Africa   62.351   706.157306\n",
      "1700     Zimbabwe  1992  10704340.0    Africa   60.377   693.420786\n",
      "1701     Zimbabwe  1997  11404948.0    Africa   46.809   792.449960\n",
      "1702     Zimbabwe  2002  11926563.0    Africa   39.989   672.038623\n",
      "1703     Zimbabwe  2007  12311143.0    Africa   43.487   469.709298\n",
      "\n",
      "[1704 rows x 6 columns]\n"
     ]
    }
   ],
   "source": [
    "print(df)"
   ]
  },
  {
   "cell_type": "markdown",
   "metadata": {},
   "source": [
    "When we load a csv file with Pandas, it get's loaded into a DataFrame.\n",
    "\n",
    "DataFrame is the way Pandas represents a table, and Series is the data-structure Pandas use to represent a column. So, a data frame and series are synonomous with table and column.\n",
    "\n",
    "\n",
    "*   The columns in a data frame are the observed variables, and the rows are the observations.\n",
    "*   Pandas uses backslash `\\` to show wrapped lines when output is too wide to fit the screen."
   ]
  },
  {
   "cell_type": "markdown",
   "metadata": {},
   "source": [
    "---\n",
    "## EtherPad\n",
    "\n",
    "Hypothetically, the data a project you are working on is stored in a file called `microbes.csv`, which is located in a folder called `field_data`. You are doing analysis in a notebook called `analysis.ipynb`in a sibling folder called `thesis`. You're directory structure looks like this:\n",
    "    ~~~\n",
    "    your_home_directory\n",
    "    +-- field_data/\n",
    "    |   +-- microbes.csv\n",
    "    +-- thesis/\n",
    "        +-- analysis.ipynb\n",
    "    ~~~\n",
    "\n",
    "What value(s) should you pass to `read_csv` to read `microbes.csv` in `analysis.ipynb`? Vote for your answer in EtherPad.\n",
    "\n",
    "    a. \"/field_data/microbes.csv\"\n",
    "    b. \"./field_data/microbes.csv\"\n",
    "    c. \"field_data/microbes.csv\"\n",
    "    d. \"../field_data/microbes.csv\"\n",
    "\n",
    "---"
   ]
  },
  {
   "cell_type": "markdown",
   "metadata": {},
   "source": [
    "## Use `DataFrame.info` to find out more about a data frame."
   ]
  },
  {
   "cell_type": "code",
   "execution_count": null,
   "metadata": {},
   "outputs": [],
   "source": [
    "# Write your code here\n"
   ]
  },
  {
   "cell_type": "markdown",
   "metadata": {},
   "source": [
    "## Use `DataFrame.describe` to get summary statistics about data.\n",
    "\n",
    "DataFrame.describe() gets the summary statistics of only the columns that have numerical data. \n",
    "All other columns are ignored."
   ]
  },
  {
   "cell_type": "code",
   "execution_count": null,
   "metadata": {},
   "outputs": [],
   "source": [
    "# Write your code here\n"
   ]
  },
  {
   "cell_type": "markdown",
   "metadata": {},
   "source": [
    "---\n",
    "## EtherPad:\n",
    "1. Use the python cell below to find the minimum GDP per capita of all countries in 1972?\n",
    "\n",
    "Hint: You will need to use the DataFrame.loc[] to find all entries of 1972"
   ]
  },
  {
   "cell_type": "code",
   "execution_count": null,
   "metadata": {},
   "outputs": [],
   "source": [
    "# Write your code here\n"
   ]
  },
  {
   "cell_type": "markdown",
   "metadata": {},
   "source": [
    "Vote for your answer on EtherPad\n",
    "\n",
    "    a. 331.0\n",
    "    b. 357.0\n",
    "    c. 415.0\n",
    "    d. 424.\n",
    "    \n",
    "---"
   ]
  },
  {
   "cell_type": "markdown",
   "metadata": {},
   "source": [
    "## The `DataFrame.columns` variable stores information about the data frame's columns.\n",
    "\n",
    "*   Note that this is a variable, *not* a function.\n",
    "    *   Like `math.pi`.\n",
    "    *   So do not use `()` to try to call it."
   ]
  },
  {
   "cell_type": "code",
   "execution_count": null,
   "metadata": {},
   "outputs": [],
   "source": [
    "# print out the data frame columns\n"
   ]
  },
  {
   "cell_type": "markdown",
   "metadata": {},
   "source": [
    "## Use `index_col` to specify that a column's values should be used as row headings.\n",
    "\n",
    "*   Row headings are numbers (0 and 1 in this case).\n",
    "*   Really want to index by country.\n",
    "*   Pass the name of the column to `read_csv` as its `index_col` parameter to do this."
   ]
  },
  {
   "cell_type": "code",
   "execution_count": null,
   "metadata": {
    "scrolled": true
   },
   "outputs": [],
   "source": [
    "# re-read in the gapminder data with the \"country\" column/series sa the index_col\n",
    "df = pandas.read_csv(\"gapminder_csv.txt\", index_col=\"country\")\n",
    "print(df.head())"
   ]
  },
  {
   "cell_type": "markdown",
   "metadata": {},
   "source": [
    "* This is a `DataFrame`\n",
    "* This gives us many rows with the same index value (\"e.g. Afghanistan\")\n",
    "  * Not good practice\n",
    "* lets re-read the table without the index_cols"
   ]
  },
  {
   "cell_type": "code",
   "execution_count": null,
   "metadata": {},
   "outputs": [],
   "source": [
    "# Write your code here\n"
   ]
  },
  {
   "cell_type": "markdown",
   "metadata": {},
   "source": [
    "## Writing to csv file \n",
    "As well as the `read_csv` function for reading data from a file, Pandas can write data frames to files with a `to_****` function.\n",
    "  * Pandas can write data frames to csv, html, excel (xlsx), json, and many more.  \n",
    "    E.g.  \n",
    "    `df.to_csv(\"./my_data.csv\")`\n",
    "    "
   ]
  },
  {
   "cell_type": "markdown",
   "metadata": {},
   "source": [
    "---\n",
    "## EXERCISE:\n",
    "1. With the `gapminder_final.txt` file read in as a data frame, write out a copy of the data frame as a csv to a new file called `gapminder_final.csv` in the `data` directory in the `python_lessons` directory (\"./data\").\n",
    "\n",
    "---"
   ]
  },
  {
   "cell_type": "code",
   "execution_count": null,
   "metadata": {},
   "outputs": [],
   "source": [
    "# Write your code here\n"
   ]
  },
  {
   "cell_type": "markdown",
   "metadata": {},
   "source": [
    "# -- COMMIT YOUR WORK TO GITHUB --"
   ]
  },
  {
   "cell_type": "markdown",
   "metadata": {},
   "source": [
    "---\n",
    "## Keypoints:\n",
    " * Use the Pandas library to do statistics on tabular data.\n",
    " * Use `index_col` to specify that a column's values should be used as row headings.\n",
    " * Use `DataFrame.info` to find out more about a data frame.\n",
    " * The `DataFrame.columns` variable stores information about the data frame's columns.\n",
    " * Use `DataFrame.T` to transpose a data frame.\n",
    " * Use `DataFrame.describe` to get summary statistics about data."
   ]
  }
 ],
 "metadata": {
  "anaconda-cloud": {},
  "kernelspec": {
   "display_name": "Python 3",
   "language": "python",
   "name": "python3"
  },
  "language_info": {
   "codemirror_mode": {
    "name": "ipython",
    "version": 3
   },
   "file_extension": ".py",
   "mimetype": "text/x-python",
   "name": "python",
   "nbconvert_exporter": "python",
   "pygments_lexer": "ipython3",
   "version": "3.7.1"
  }
 },
 "nbformat": 4,
 "nbformat_minor": 2
}
