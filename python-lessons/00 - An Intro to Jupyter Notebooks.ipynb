{
 "cells": [
  {
   "cell_type": "markdown",
   "metadata": {},
   "source": [
    "An Introduction to Jupyter Notebooks\n",
    "==\n",
    "\n",
    "### Keypoints:\n",
    " * Python programs are plain text files.\n",
    " * Use the Jupyter Notebook for editing and running Python.\n",
    " * The Notebook has Control and Edit modes.\n",
    " * Use the keyboard and mouse to select and edit cells.\n",
    " * The Notebook will turn Markdown into pretty-printed documentation.\n",
    " * Markdown does most of what HTML does.\n",
    "---\n"
   ]
  },
  {
   "cell_type": "markdown",
   "metadata": {},
   "source": [
    "## Python programs are plain text files.\n",
    "\n",
    "*   They have the `.py` extension to let everyone (including the operating system) \n",
    "    know it is a Python program.\n",
    "    *   This is convention, not a requirement.\n",
    "*   It's common to write them using a text editor but we are going to use the [Jupyter Notebook](http://jupyter.org/)\n",
    "*   The bit of extra setup is well worth it because the Notebook provides code completion \n",
    "    and other helpful features.\n",
    "*   Notebook files have the extension `.ipynb` to distinguish them from plain-text Python programs.\n",
    "\n",
    "## Use the Jupyter Notebook for editing and running Python.\n",
    "\n",
    "*   The [Anaconda package manager](http://www.anaconda.com) is an automated way to install the Jupyter notebook.\n",
    "    *   See [the setup instructions]({{ site.github.url }}/setup/) for Anaconda installation \n",
    "        instructions.\n",
    "*   It also installs all the extra libraries it needs to run.\n",
    "*   Once you have installed Python and the Jupyter Notebook requirements, open a shell and type:\n",
    "~~~\n",
    "$ jupyter notebook\n",
    "~~~\n",
    "\n",
    "*   This will start a Jupyter Notebook server and open your default web browser. \n",
    "*   The server runs locally on your machine only and does not use an internet connection.\n",
    "*   The server sends messages to your browser.\n",
    "*   The server does the work and the web browser renders the notebook.\n",
    "*   You can type code into the browser and see the result when the web page talks to the server.\n",
    "*   This has several advantages:\n",
    "\t- You can easily type, edit, and copy and paste blocks of code.\n",
    "\t- Tab completion allows you to easily access the names of things you are \n",
    "    using and learn more about them.\n",
    "\t- It allows you to annotate your code with links, different sized text, bullets, \n",
    "    etc to make it more accessible to you and your collaborators.\n",
    "\t- It allows you to display figures next to the code that produces them to \n",
    "    tell a complete story of the analysis.\n",
    "*   The notebook is stored as JSON but can be saved as a .py file if you would\n",
    "    like to run it from the bash shell or a python interpreter.\n",
    "*   Just like a webpage, the saved notebook looks different to what you see when \n",
    "    it gets rendered by your browser.\n"
   ]
  },
  {
   "cell_type": "markdown",
   "metadata": {},
   "source": [
    "> ## How It's Stored\n",
    ">\n",
    "> *   The notebook file is stored in a format called JSON.\n",
    "> *   Just like a webpage, what's saved looks different from what you see in your browser.\n",
    "> *   But this format allows Jupyter to mix software (in several languages) with documentation \n",
    "      and graphics, all in one file."
   ]
  },
  {
   "cell_type": "markdown",
   "metadata": {},
   "source": [
    "## What you need to know for today's lesson\n",
    "\n",
    "![jn_options.png](jn_options.png)\n",
    "\n",
    "*   Commands are only run when you tell them to run.  Some lessons require you to run their code in order.\n",
    "*   The File menu has an option called \"Revert to Checkpoint\".  Use that to reset your file in case you delete something on accident.\n",
    "*   The Kernel menu has an options to restart the interpreter and clear the output. \n",
    "*   The Run button will send the code in the selected cell to the interpreter.\n",
    "*   The command pallate function will show you and let you set hotkeys."
   ]
  },
  {
   "cell_type": "code",
   "execution_count": 1,
   "metadata": {},
   "outputs": [],
   "source": [
    "message = \"run me first\""
   ]
  },
  {
   "cell_type": "code",
   "execution_count": 2,
   "metadata": {},
   "outputs": [
    {
     "name": "stdout",
     "output_type": "stream",
     "text": [
      "run me first\n"
     ]
    }
   ],
   "source": [
    "print(message)"
   ]
  },
  {
   "cell_type": "markdown",
   "metadata": {},
   "source": [
    "## The Notebook has Control and Edit modes.\n",
    "\n",
    "*   Open a new notebook from the dropdown menu in the top right corner of the file browser page.\n",
    "*   Each notebook contains one or more cells of various types.\n",
    "\n",
    "> ## Code vs. Text\n",
    ">\n",
    "> We often use the term \"code\" to mean \"the source code of \n",
    "> software written in a language such as Python\". \n",
    "> A \"code cell\" in a Notebook is a cell that contains software;\n",
    "> a \"text cell\" is one that contains ordinary prose written for human beings.\n",
    "\n",
    "*   If you press \"esc\" and \"return\" alternately,\n",
    "    the outer border of your code cell will change from blue to green.\n",
    "    *   The difference in color can be subtle.\n",
    "*   These are the control (blue) and edit (green) modes of your notebook.\n",
    "*   If you use the \"esc\" key to make the surround blue\n",
    "    and then press the \"H\" key,\n",
    "    a list of all the shortcut keys will appear.\n",
    "*   When in control mode (esc/blue),\n",
    "    *   The \"B\" key will make a new cell below the currently selected cell.\n",
    "    *   The \"A\" key will make one above.\n",
    "    *   The \"X\" key will delete the current cell.\n",
    "*   There are lots of shortcuts you can try out and most actions can be \n",
    "    done with the menus at the top of the page if you forget the shortcuts.\n",
    "*   If you remember the \"esc\" and \"H\" shortcuts, you will be able to find out all the rest"
   ]
  },
  {
   "cell_type": "markdown",
   "metadata": {},
   "source": [
    "## Use the keyboard and mouse to select and edit cells.\n",
    "\n",
    "*   Pressing the \"return\" key turns the surround green to \n",
    "    signify edit mode and you can type into the cell.\n",
    "*   Because we want to be able to write many lines of code in a single cell,\n",
    "    pressing the \"return\" key when the border is green moves the cursor to the next line in the cell\n",
    "    just like in a text editor.\n",
    "*   We need some other way to tell the Notebook we want to run what's in the cell.\n",
    "*   Pressing the \"return\" key and the \"shift\" key together will execute the contents of the cell.\n",
    "*   Notice that the \"return\" and \"shift\" keys on the \n",
    "    right of the keyboard are right next to each other."
   ]
  },
  {
   "cell_type": "markdown",
   "metadata": {},
   "source": [
    "## The Notebook will turn Markdown into pretty-printed documentation.\n",
    "\n",
    "*   Notebooks can also render [Markdown][markdown].\n",
    "    *   A simple plain-text format for writing lists, links, \n",
    "        and other things that might go into a web page.\n",
    "    *   Equivalently, a subset of HTML that looks like what you'd send in an old-fashioned email.\n",
    "*   Turn the current cell into a Markdown cell by entering \n",
    "    the control mode (esc/blue) and press the \"M\" key.\n",
    "*   `In [ ]:` will disappear to show it is no longer a code cell\n",
    "    and you will be able to write in Markdown.\n",
    "*   Turn the current cell into a Code cell\n",
    "    by entering the control mode (esc/blue) and press the \"Y\" key."
   ]
  },
  {
   "cell_type": "markdown",
   "metadata": {},
   "source": [
    "## Markdown does most of what HTML does.\n",
    "\n",
    "<div class=\"row\">\n",
    "  <div class=\"col-md-6\" markdown=\"1\">"
   ]
  },
  {
   "cell_type": "markdown",
   "metadata": {},
   "source": [
    "\\*   Use asterisks   \n",
    "\\*   to create  \n",
    "\\*   bullet lists.  "
   ]
  },
  {
   "cell_type": "markdown",
   "metadata": {},
   "source": [
    "*   Use asterisks\n",
    "*   to create\n",
    "*   bullet lists."
   ]
  },
  {
   "cell_type": "markdown",
   "metadata": {},
   "source": [
    "\"1.  Use numbers\"  \n",
    "\"1.  to create\"  \n",
    "\"1.  numbered lists.\"  "
   ]
  },
  {
   "cell_type": "markdown",
   "metadata": {},
   "source": [
    "1.  Use numbers\n",
    "1.  to create\n",
    "1.  numbered lists."
   ]
  },
  {
   "cell_type": "code",
   "execution_count": null,
   "metadata": {},
   "outputs": [],
   "source": [
    "# A Level-1 Heading"
   ]
  },
  {
   "cell_type": "markdown",
   "metadata": {},
   "source": [
    "# A Level-1 Heading"
   ]
  },
  {
   "cell_type": "code",
   "execution_count": null,
   "metadata": {},
   "outputs": [],
   "source": [
    "## A Level-2 Heading (etc.)"
   ]
  },
  {
   "cell_type": "markdown",
   "metadata": {},
   "source": [
    "## A Level-2 Heading (etc.)"
   ]
  },
  {
   "cell_type": "markdown",
   "metadata": {},
   "source": [
    "Line breaks\n",
    "don't matter.\n",
    "\n",
    "But blank lines\n",
    "create new paragraphs."
   ]
  },
  {
   "cell_type": "markdown",
   "metadata": {},
   "source": [
    "Line breaks\n",
    "don't matter.\n",
    "\n",
    "But blank lines\n",
    "create new paragraphs."
   ]
  },
  {
   "cell_type": "markdown",
   "metadata": {},
   "source": [
    "\"[Create links](http://software-carpentry.org) with `[...](...)`.\"\n",
    "\"Or use [named links][data_carpentry].\"\n",
    "\n",
    "\"[links]: http://datacarpentry.org\""
   ]
  },
  {
   "cell_type": "markdown",
   "metadata": {},
   "source": [
    "[Create links](http://software-carpentry.org) with `[...](...)`.\n",
    "Or use [named links][data_carpentry].\n",
    "\n",
    "[data_carpentry]: http://datacarpentry.org"
   ]
  },
  {
   "cell_type": "markdown",
   "metadata": {},
   "source": [
    "## Exercises"
   ]
  },
  {
   "cell_type": "markdown",
   "metadata": {},
   "source": [
    "> ## Creating Lists in Markdown\n",
    ">\n",
    "> Create a nested list in a Markdown cell in a notebook that looks like this:\n",
    ">\n",
    "> 1.  Get funding.\n",
    "> 2.  Do work.\n",
    ">     *   Design experiment.\n",
    ">     *   Collect data.\n",
    ">     *   Analyze.\n",
    "> 3.  Write up.\n",
    "> 4.  Publish.\n",
    ">\n",
    ">>### Solution\n",
    ">>This challenge integrates both the numbered list and bullet list. Note that the bullet list is indented 2 spaces so that it is inline with the items of the numbered list.\n",
    ">>1.  Get funding.\n",
    ">>1.  Do work.\n",
    "    *   Design experiment.\n",
    "    *   Collect data.\n",
    "    *   Analyze.\n",
    ">>1. Write up.\n",
    ">>1. Publish.\n",
    "\n",
    "\n",
    "> ## More Math\n",
    ">\n",
    "> What is displayed when a Python cell in a notebook that contains several calculations is executed? For example, what happens when this cell is executed?\n",
    ">\n",
    "> ~~~\n",
    "> 7 * 3\n",
    "> 2 + 1\n",
    "> ~~~\n",
    "\n",
    "\n",
    "> ## Change an Existing Cell from Code to Markdown\n",
    ">\n",
    "> What happens if you write some Python in a code cell and then you switch it to a Markdown cell? For example, put the following in a code cell:\n",
    ">\n",
    "> ~~~\n",
    "> x = 6 * 7 + 12\n",
    "> print(x)\n",
    "> ~~~\n",
    "> And then run it with shift+return to be sure that it works as a code cell.\n",
    "> Now go back to the cell and use escape+M to switch the cell to Markdown and \"run\" it with shift+return. What happened and how might this be useful?\n",
    ">\n",
    ">>### Solution\n",
    ">>The Python code gets treated like markdown text. The lines appear as if they are part of one contiguous paragraph. This could be useful to temporarly turn on and off cells in notebooks that get used for multiple purposes.  \n",
    ">>     `x = 6 * 7 + 12 print(x)`\n",
    "\n",
    "> ## Equations\n",
    "> Standard Markdown (such as we’re using for these notes) won’t render equations, but the Notebook will. Create a new Markdown cell and enter the following:\n",
    "> ~~~\n",
    "> $\\Sigma_{i=1}^{N} 2^{-i} \\approx 1$\n",
    "> ~~~\n",
    ">\n",
    "> This should create: $\\Sigma_{i=1}^{N} 2^{-i} \\approx 1$\n",
    ">\n",
    "> (It's probably easier to copy and paste.) What does it display? What do you think the underscore `_`, circumflex `^`, and dollar sign &#36; do ?\n",
    ">\n",
    ">>### Solution\n",
    ">>The notebook shows the equation as it would be rendered from latex equation syntax. The dollar sign, &#36;, is used to tell markdown that the text in between is a latex equation. If you’re not familiar with latex, underscore, `_`, is used for subscripts and circumflex, `^`, is used for superscripts. A pair of curly braces, `{` and `}`, is used to group text together so that the statement `i=1` becomes the the subscript and `N` becomes the superscript. Similarly, `-i` is in curly braces to make the whole statement the superscript for `2`. `\\sum` and `\\approx` are latex commands for “sum over” and “approximate” symbols.\n",
    "\n",
    "[anaconda]: https://docs.continuum.io/anaconda/install\n",
    "\n",
    "[markdown]: https://en.wikipedia.org/wiki/Markdown"
   ]
  },
  {
   "cell_type": "code",
   "execution_count": 3,
   "metadata": {},
   "outputs": [
    {
     "ename": "SyntaxError",
     "evalue": "invalid syntax (<ipython-input-3-a80a20b3c603>, line 1)",
     "output_type": "error",
     "traceback": [
      "\u001b[0;36m  File \u001b[0;32m\"<ipython-input-3-a80a20b3c603>\"\u001b[0;36m, line \u001b[0;32m1\u001b[0m\n\u001b[0;31m    $\\Sigma_{i=1}^{N} 2^{-i} \\approx 1$\u001b[0m\n\u001b[0m    ^\u001b[0m\n\u001b[0;31mSyntaxError\u001b[0m\u001b[0;31m:\u001b[0m invalid syntax\n"
     ]
    }
   ],
   "source": [
    "$\\Sigma_{i=1}^{N} 2^{-i} \\approx 1$"
   ]
  },
  {
   "cell_type": "code",
   "execution_count": 4,
   "metadata": {},
   "outputs": [
    {
     "ename": "SyntaxError",
     "evalue": "invalid syntax (<ipython-input-4-a80a20b3c603>, line 1)",
     "output_type": "error",
     "traceback": [
      "\u001b[0;36m  File \u001b[0;32m\"<ipython-input-4-a80a20b3c603>\"\u001b[0;36m, line \u001b[0;32m1\u001b[0m\n\u001b[0;31m    $\\Sigma_{i=1}^{N} 2^{-i} \\approx 1$\u001b[0m\n\u001b[0m    ^\u001b[0m\n\u001b[0;31mSyntaxError\u001b[0m\u001b[0;31m:\u001b[0m invalid syntax\n"
     ]
    }
   ],
   "source": [
    "$\\Sigma_{i=1}^{N} 2^{-i} \\approx 1$"
   ]
  },
  {
   "cell_type": "markdown",
   "metadata": {},
   "source": [
    "$\\Sigma_{i=1}^{N} 2^{-i} \\approx 1$"
   ]
  },
  {
   "cell_type": "markdown",
   "metadata": {},
   "source": [
    "$\\Sigma_{i=1}^{N} 2^{-i} \\approx 1$\n"
   ]
  },
  {
   "attachments": {
    "Screen%20Shot%202019-02-24%20at%209.15.56%20AM.png": {
     "image/png": "[encoded data removed]"
    }
   },
   "cell_type": "markdown",
   "metadata": {},
   "source": [
    "# hypothesis\n",
    "![Screen%20Shot%202019-02-24%20at%209.15.56%20AM.png](attachment:Screen%20Shot%202019-02-24%20at%209.15.56%20AM.png)\n",
    "Today we are going to test out an idea on AI"
   ]
  }
 ],
 "metadata": {
  "kernelspec": {
   "display_name": "Python 3",
   "language": "python",
   "name": "python3"
  },
  "language_info": {
   "codemirror_mode": {
    "name": "ipython",
    "version": 3
   },
   "file_extension": ".py",
   "mimetype": "text/x-python",
   "name": "python",
   "nbconvert_exporter": "python",
   "pygments_lexer": "ipython3",
   "version": "3.7.1"
  }
 },
 "nbformat": 4,
 "nbformat_minor": 2
}
